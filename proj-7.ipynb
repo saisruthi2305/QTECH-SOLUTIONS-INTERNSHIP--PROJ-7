{
 "cells": [
  {
   "cell_type": "code",
   "execution_count": 1,
   "id": "d61152d9-f2b0-4598-8aed-a047a4082212",
   "metadata": {},
   "outputs": [
    {
     "name": "stdout",
     "output_type": "stream",
     "text": [
      "Requirement already satisfied: sympy in c:\\programdata\\anaconda3\\lib\\site-packages (1.12)\n",
      "Requirement already satisfied: nltk in c:\\programdata\\anaconda3\\lib\\site-packages (3.8.1)\n",
      "Requirement already satisfied: mpmath>=0.19 in c:\\programdata\\anaconda3\\lib\\site-packages (from sympy) (1.3.0)\n",
      "Requirement already satisfied: click in c:\\programdata\\anaconda3\\lib\\site-packages (from nltk) (8.1.7)\n",
      "Requirement already satisfied: joblib in c:\\programdata\\anaconda3\\lib\\site-packages (from nltk) (1.2.0)\n",
      "Requirement already satisfied: regex>=2021.8.3 in c:\\programdata\\anaconda3\\lib\\site-packages (from nltk) (2023.10.3)\n",
      "Requirement already satisfied: tqdm in c:\\programdata\\anaconda3\\lib\\site-packages (from nltk) (4.65.0)\n",
      "Requirement already satisfied: colorama in c:\\programdata\\anaconda3\\lib\\site-packages (from click->nltk) (0.4.6)\n"
     ]
    },
    {
     "name": "stderr",
     "output_type": "stream",
     "text": [
      "DEPRECATION: Loading egg at c:\\programdata\\anaconda3\\lib\\site-packages\\vboxapi-1.0-py3.11.egg is deprecated. pip 24.3 will enforce this behaviour change. A possible replacement is to use pip for package installation.. Discussion can be found at https://github.com/pypa/pip/issues/12330\n"
     ]
    }
   ],
   "source": [
    "!pip install sympy nltk\n"
   ]
  },
  {
   "cell_type": "code",
   "execution_count": 1,
   "id": "234dc50a-a063-4c87-8635-68856fc733b7",
   "metadata": {},
   "outputs": [
    {
     "name": "stdout",
     "output_type": "stream",
     "text": [
      "Natural Language Input: what is ten divided two plus three\n",
      "Parsed Expression: 10 / 2 + 3\n",
      "Solution: 8\n",
      "\n",
      "Natural Language Input: what is five minus two times four\n",
      "Parsed Expression: 5 - 2 * 4\n",
      "Solution: -3\n"
     ]
    },
    {
     "name": "stderr",
     "output_type": "stream",
     "text": [
      "[nltk_data] Downloading package punkt to\n",
      "[nltk_data]     C:\\Users\\dell\\AppData\\Roaming\\nltk_data...\n",
      "[nltk_data]   Package punkt is already up-to-date!\n"
     ]
    }
   ],
   "source": [
    "# Importing necessary libraries\n",
    "import sympy as sp\n",
    "import nltk\n",
    "from nltk.tokenize import word_tokenize\n",
    "\n",
    "# Downloading NLTK resources (first time only)\n",
    "nltk.download('punkt')\n",
    "\n",
    "# Define a function to parse natural language expressions\n",
    "def parse_natural_language(expression):\n",
    "    # Tokenize the natural language input\n",
    "    tokens = word_tokenize(expression.lower())\n",
    "\n",
    "    # Irrelevant words or phrases to ignore\n",
    "    ignore_words = ['what', 'is', 'the']\n",
    "\n",
    "    # Simple rules for converting natural language to symbols and numbers\n",
    "    symbol_map = {\n",
    "        'plus': '+',\n",
    "        'minus': '-',\n",
    "        'times': '*',\n",
    "        'multiplied': '*',\n",
    "        'divided': '/',\n",
    "        'over': '/',\n",
    "        'into': '*',\n",
    "        'equal': '=',\n",
    "        'equals': '=',\n",
    "        'squared': '**2',\n",
    "        'cubed': '**3',\n",
    "        'zero': '0',\n",
    "        'one': '1',\n",
    "        'two': '2',\n",
    "        'three': '3',\n",
    "        'four': '4',\n",
    "        'five': '5',\n",
    "        'six': '6',\n",
    "        'seven': '7',\n",
    "        'eight': '8',\n",
    "        'nine': '9',\n",
    "        'ten': '10',\n",
    "        'eleven': '11',\n",
    "        'twelve': '12',\n",
    "        'thirteen': '13',\n",
    "        'fourteen': '14',\n",
    "        'fifteen': '15',\n",
    "        'sixteen': '16',\n",
    "        'seventeen': '17',\n",
    "        'eighteen': '18',\n",
    "        'nineteen': '19',\n",
    "        'twenty': '20'\n",
    "    }\n",
    "\n",
    "    # Replace natural language terms with symbols and ignore irrelevant words\n",
    "    parsed_expression = []\n",
    "    for token in tokens:\n",
    "        if token in ignore_words:\n",
    "            continue  # Skip irrelevant words\n",
    "        elif token in symbol_map:\n",
    "            parsed_expression.append(symbol_map[token])\n",
    "        else:\n",
    "            parsed_expression.append(token)\n",
    "\n",
    "    # Join the parsed tokens to form the final mathematical expression\n",
    "    return ' '.join(parsed_expression)\n",
    "\n",
    "# Define a function to solve the symbolic mathematical expression\n",
    "def solve_expression(expression):\n",
    "    # Using sympy to parse and simplify/solve the expression\n",
    "    try:\n",
    "        expr = sp.sympify(expression)\n",
    "        solution = sp.simplify(expr)\n",
    "        return solution\n",
    "    except Exception as e:\n",
    "        return f\"Error: {str(e)}\"\n",
    "\n",
    "# Main function to handle only natural language expressions\n",
    "def solve_math_expression(input_expression):\n",
    "    # Parse the natural language input to a symbolic expression\n",
    "    parsed_expression = parse_natural_language(input_expression)\n",
    "    \n",
    "    # Solve the expression\n",
    "    solution = solve_expression(parsed_expression)\n",
    "    return parsed_expression, solution\n",
    "\n",
    "# Example natural language inputs\n",
    "natural_language_input_1 = \"what is ten divided two plus three\"\n",
    "natural_language_input_2 = \"what is five minus two times four\"\n",
    "\n",
    "# Solve the natural language inputs\n",
    "parsed_expr_nl1, solution_nl1 = solve_math_expression(natural_language_input_1)\n",
    "print(f\"Natural Language Input: {natural_language_input_1}\")\n",
    "print(f\"Parsed Expression: {parsed_expr_nl1}\")\n",
    "print(f\"Solution: {solution_nl1}\\n\")\n",
    "\n",
    "parsed_expr_nl2, solution_nl2 = solve_math_expression(natural_language_input_2)\n",
    "print(f\"Natural Language Input: {natural_language_input_2}\")\n",
    "print(f\"Parsed Expression: {parsed_expr_nl2}\")\n",
    "print(f\"Solution: {solution_nl2}\")\n"
   ]
  }
 ],
 "metadata": {
  "kernelspec": {
   "display_name": "Python 3 (ipykernel)",
   "language": "python",
   "name": "python3"
  },
  "language_info": {
   "codemirror_mode": {
    "name": "ipython",
    "version": 3
   },
   "file_extension": ".py",
   "mimetype": "text/x-python",
   "name": "python",
   "nbconvert_exporter": "python",
   "pygments_lexer": "ipython3",
   "version": "3.11.7"
  }
 },
 "nbformat": 4,
 "nbformat_minor": 5
}
